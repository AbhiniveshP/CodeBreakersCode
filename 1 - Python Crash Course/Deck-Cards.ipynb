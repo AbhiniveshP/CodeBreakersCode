{
 "cells": [
  {
   "cell_type": "code",
   "execution_count": 1,
   "metadata": {},
   "outputs": [],
   "source": [
    "from random import shuffle"
   ]
  },
  {
   "cell_type": "code",
   "execution_count": 2,
   "metadata": {},
   "outputs": [],
   "source": [
    "SUITS = [\"DIAMONDS\", \"SPADES\", \"HEARTS\", \"CLUBS\"]\n",
    "VALUES = [\"ACE\", \"TWO\" , \"THREE\", \"FOUR\", \"FIVE\", \"SIX\", \"SEVEN\", \"EIGHT\", \"NINE\", \"TEN\", \"JACK\", \"QUEEN\", \"KING\"]"
   ]
  },
  {
   "cell_type": "code",
   "execution_count": 5,
   "metadata": {},
   "outputs": [],
   "source": [
    "class Card:\n",
    "\n",
    "    # Card constructor\n",
    "    def __init__(self, suit, value):\n",
    "        \n",
    "        self.__suit = suit\n",
    "        self.__value = value\n",
    "    \n",
    "    # Returns the suit of the card.\n",
    "    def suit(self):\n",
    "        \n",
    "        return self.__suit\n",
    "    \n",
    "    # Returns the value of the card.\n",
    "    def value(self):\n",
    "        \n",
    "        return self.__value\n",
    "    \n",
    "    # Representation of a Card as a string.\n",
    "    def __str__(self):\n",
    "        \n",
    "        return (\"Current Card's suite is {} and value is {}\".format( self.suit(), self.value() ))"
   ]
  },
  {
   "cell_type": "code",
   "execution_count": 9,
   "metadata": {},
   "outputs": [],
   "source": [
    "class Deck:\n",
    "    \n",
    "    # Creates a sorted deck of playing cards. 13 values, 4 suits.\n",
    "    def __init__(self):\n",
    "        \n",
    "        self.__deck = []\n",
    "        \n",
    "        for suit in SUITS:\n",
    "            for value in VALUES:\n",
    "                self.__deck.append(Card(suit, value))\n",
    "    \n",
    "    # Returns the number of Cards in the Deck\n",
    "    def num_cards(self):\n",
    "        \n",
    "        return len(self.__deck)\n",
    "    \n",
    "    # Shuffles the deck of cards.\n",
    "    def shuffle(self):\n",
    "        \n",
    "        shuffle(self.__deck)\n",
    "    \n",
    "    # Returns the top Card in the deck, then puts it back.\n",
    "    def peek(self):\n",
    "        \n",
    "        return self.__deck[-1]\n",
    "    \n",
    "    # Draws and returns the top card in the deck. The card should no longer be in the Deck.\n",
    "    def draw(self):\n",
    "        \n",
    "        currentCard = self.__deck.pop()\n",
    "        return currentCard\n",
    "    \n",
    "    # Adds the input card to the deck. If the deck has more than 52 cards, do not add the card and raise an exception.\n",
    "    def add_card(self, card):\n",
    "        \n",
    "        if (self.num_cards() < 52):\n",
    "            self.__deck.append(card)\n",
    "        else:\n",
    "            print(\"Can't add extra cards !!!\")\n",
    "    \n",
    "    # Calling this function should print all the cards in the deck in their current order.\n",
    "    def print_deck(self):\n",
    "        \n",
    "        for i in range(self.num_cards()):\n",
    "            print(self.__deck[i])"
   ]
  },
  {
   "cell_type": "code",
   "execution_count": 10,
   "metadata": {},
   "outputs": [
    {
     "name": "stdout",
     "output_type": "stream",
     "text": [
      "Current Card's suite is DIAMONDS and value is ACE\n",
      "Current Card's suite is DIAMONDS and value is TWO\n",
      "Current Card's suite is DIAMONDS and value is THREE\n",
      "Current Card's suite is DIAMONDS and value is FOUR\n",
      "Current Card's suite is DIAMONDS and value is FIVE\n",
      "Current Card's suite is DIAMONDS and value is SIX\n",
      "Current Card's suite is DIAMONDS and value is SEVEN\n",
      "Current Card's suite is DIAMONDS and value is EIGHT\n",
      "Current Card's suite is DIAMONDS and value is NINE\n",
      "Current Card's suite is DIAMONDS and value is TEN\n",
      "Current Card's suite is DIAMONDS and value is JACK\n",
      "Current Card's suite is DIAMONDS and value is QUEEN\n",
      "Current Card's suite is DIAMONDS and value is KING\n",
      "Current Card's suite is SPADES and value is ACE\n",
      "Current Card's suite is SPADES and value is TWO\n",
      "Current Card's suite is SPADES and value is THREE\n",
      "Current Card's suite is SPADES and value is FOUR\n",
      "Current Card's suite is SPADES and value is FIVE\n",
      "Current Card's suite is SPADES and value is SIX\n",
      "Current Card's suite is SPADES and value is SEVEN\n",
      "Current Card's suite is SPADES and value is EIGHT\n",
      "Current Card's suite is SPADES and value is NINE\n",
      "Current Card's suite is SPADES and value is TEN\n",
      "Current Card's suite is SPADES and value is JACK\n",
      "Current Card's suite is SPADES and value is QUEEN\n",
      "Current Card's suite is SPADES and value is KING\n",
      "Current Card's suite is HEARTS and value is ACE\n",
      "Current Card's suite is HEARTS and value is TWO\n",
      "Current Card's suite is HEARTS and value is THREE\n",
      "Current Card's suite is HEARTS and value is FOUR\n",
      "Current Card's suite is HEARTS and value is FIVE\n",
      "Current Card's suite is HEARTS and value is SIX\n",
      "Current Card's suite is HEARTS and value is SEVEN\n",
      "Current Card's suite is HEARTS and value is EIGHT\n",
      "Current Card's suite is HEARTS and value is NINE\n",
      "Current Card's suite is HEARTS and value is TEN\n",
      "Current Card's suite is HEARTS and value is JACK\n",
      "Current Card's suite is HEARTS and value is QUEEN\n",
      "Current Card's suite is HEARTS and value is KING\n",
      "Current Card's suite is CLUBS and value is ACE\n",
      "Current Card's suite is CLUBS and value is TWO\n",
      "Current Card's suite is CLUBS and value is THREE\n",
      "Current Card's suite is CLUBS and value is FOUR\n",
      "Current Card's suite is CLUBS and value is FIVE\n",
      "Current Card's suite is CLUBS and value is SIX\n",
      "Current Card's suite is CLUBS and value is SEVEN\n",
      "Current Card's suite is CLUBS and value is EIGHT\n",
      "Current Card's suite is CLUBS and value is NINE\n",
      "Current Card's suite is CLUBS and value is TEN\n",
      "Current Card's suite is CLUBS and value is JACK\n",
      "Current Card's suite is CLUBS and value is QUEEN\n",
      "Current Card's suite is CLUBS and value is KING\n"
     ]
    }
   ],
   "source": [
    "deck = Deck()\n",
    "deck.print_deck()"
   ]
  },
  {
   "cell_type": "code",
   "execution_count": 11,
   "metadata": {},
   "outputs": [
    {
     "name": "stdout",
     "output_type": "stream",
     "text": [
      "Can't add extra cards !!!\n"
     ]
    }
   ],
   "source": [
    "deck.add_card(Card('CLUBS', 'SIX'))"
   ]
  },
  {
   "cell_type": "code",
   "execution_count": 12,
   "metadata": {},
   "outputs": [],
   "source": [
    "deck.shuffle()"
   ]
  },
  {
   "cell_type": "code",
   "execution_count": 13,
   "metadata": {},
   "outputs": [
    {
     "name": "stdout",
     "output_type": "stream",
     "text": [
      "Current Card's suite is SPADES and value is FOUR\n",
      "Current Card's suite is DIAMONDS and value is THREE\n",
      "Current Card's suite is SPADES and value is THREE\n",
      "Current Card's suite is DIAMONDS and value is EIGHT\n",
      "Current Card's suite is HEARTS and value is QUEEN\n",
      "Current Card's suite is SPADES and value is EIGHT\n",
      "Current Card's suite is CLUBS and value is QUEEN\n",
      "Current Card's suite is HEARTS and value is NINE\n",
      "Current Card's suite is CLUBS and value is KING\n",
      "Current Card's suite is HEARTS and value is TEN\n",
      "Current Card's suite is DIAMONDS and value is TWO\n",
      "Current Card's suite is DIAMONDS and value is SIX\n",
      "Current Card's suite is SPADES and value is QUEEN\n",
      "Current Card's suite is SPADES and value is SEVEN\n",
      "Current Card's suite is DIAMONDS and value is TEN\n",
      "Current Card's suite is HEARTS and value is FOUR\n",
      "Current Card's suite is SPADES and value is FIVE\n",
      "Current Card's suite is HEARTS and value is JACK\n",
      "Current Card's suite is CLUBS and value is EIGHT\n",
      "Current Card's suite is DIAMONDS and value is QUEEN\n",
      "Current Card's suite is HEARTS and value is ACE\n",
      "Current Card's suite is DIAMONDS and value is SEVEN\n",
      "Current Card's suite is CLUBS and value is FOUR\n",
      "Current Card's suite is DIAMONDS and value is FIVE\n",
      "Current Card's suite is CLUBS and value is JACK\n",
      "Current Card's suite is SPADES and value is TWO\n",
      "Current Card's suite is CLUBS and value is NINE\n",
      "Current Card's suite is DIAMONDS and value is KING\n",
      "Current Card's suite is CLUBS and value is TWO\n",
      "Current Card's suite is CLUBS and value is TEN\n",
      "Current Card's suite is HEARTS and value is FIVE\n",
      "Current Card's suite is HEARTS and value is SEVEN\n",
      "Current Card's suite is SPADES and value is JACK\n",
      "Current Card's suite is CLUBS and value is ACE\n",
      "Current Card's suite is DIAMONDS and value is NINE\n",
      "Current Card's suite is DIAMONDS and value is ACE\n",
      "Current Card's suite is HEARTS and value is TWO\n",
      "Current Card's suite is SPADES and value is KING\n",
      "Current Card's suite is DIAMONDS and value is FOUR\n",
      "Current Card's suite is SPADES and value is SIX\n",
      "Current Card's suite is DIAMONDS and value is JACK\n",
      "Current Card's suite is HEARTS and value is KING\n",
      "Current Card's suite is CLUBS and value is THREE\n",
      "Current Card's suite is CLUBS and value is FIVE\n",
      "Current Card's suite is SPADES and value is NINE\n",
      "Current Card's suite is SPADES and value is TEN\n",
      "Current Card's suite is HEARTS and value is THREE\n",
      "Current Card's suite is CLUBS and value is SEVEN\n",
      "Current Card's suite is SPADES and value is ACE\n",
      "Current Card's suite is HEARTS and value is EIGHT\n",
      "Current Card's suite is HEARTS and value is SIX\n",
      "Current Card's suite is CLUBS and value is SIX\n"
     ]
    }
   ],
   "source": [
    "deck.print_deck()"
   ]
  },
  {
   "cell_type": "code",
   "execution_count": 15,
   "metadata": {},
   "outputs": [
    {
     "name": "stdout",
     "output_type": "stream",
     "text": [
      "Current Card's suite is CLUBS and value is SIX\n"
     ]
    }
   ],
   "source": [
    "print(deck.peek())"
   ]
  },
  {
   "cell_type": "code",
   "execution_count": 16,
   "metadata": {},
   "outputs": [],
   "source": [
    "topCard = deck.draw()"
   ]
  },
  {
   "cell_type": "code",
   "execution_count": 17,
   "metadata": {},
   "outputs": [
    {
     "data": {
      "text/plain": [
       "51"
      ]
     },
     "execution_count": 17,
     "metadata": {},
     "output_type": "execute_result"
    }
   ],
   "source": [
    "deck.num_cards()"
   ]
  },
  {
   "cell_type": "code",
   "execution_count": 18,
   "metadata": {},
   "outputs": [
    {
     "name": "stdout",
     "output_type": "stream",
     "text": [
      "Current Card's suite is HEARTS and value is SIX\n",
      "Current Card's suite is CLUBS and value is SIX\n"
     ]
    }
   ],
   "source": [
    "print(deck.peek())\n",
    "deck.add_card(topCard)\n",
    "print(deck.peek())"
   ]
  },
  {
   "cell_type": "code",
   "execution_count": null,
   "metadata": {},
   "outputs": [],
   "source": []
  }
 ],
 "metadata": {
  "kernelspec": {
   "display_name": "Python 3",
   "language": "python",
   "name": "python3"
  },
  "language_info": {
   "codemirror_mode": {
    "name": "ipython",
    "version": 3
   },
   "file_extension": ".py",
   "mimetype": "text/x-python",
   "name": "python",
   "nbconvert_exporter": "python",
   "pygments_lexer": "ipython3",
   "version": "3.6.9"
  }
 },
 "nbformat": 4,
 "nbformat_minor": 2
}
